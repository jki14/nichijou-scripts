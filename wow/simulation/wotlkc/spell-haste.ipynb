{
 "cells": [
  {
   "cell_type": "code",
   "execution_count": 1,
   "metadata": {},
   "outputs": [],
   "source": [
    "def hasteReq(target, base, bare = 1.00):\n",
    "    return (base / target - bare) * 1577"
   ]
  },
  {
   "cell_type": "code",
   "execution_count": 2,
   "metadata": {},
   "outputs": [
    {
     "name": "stdout",
     "output_type": "stream",
     "text": [
      "R1.0: 112.64 / -45.06 / -92.37\n",
      "R1.1: 225.29 / 67.59 / 20.28\n",
      "R1.2: 337.93 / 180.23 / 132.92\n",
      "R1.H: 394.25 / 236.55 / 189.24\n",
      "R2.0: 450.57 / 292.87 / 245.56\n",
      "R9.9: 788.50 / 630.80 / 583.49\n"
     ]
    }
   ],
   "source": [
    "print('R1.0: %.2f / %.2f / %.2f' % (hasteReq(7.0, 7.5), hasteReq(7.0, 7.5, 1.10), hasteReq(7.0, 7.5, 1.13)))\n",
    "print('R1.1: %.2f / %.2f / %.2f' % (hasteReq(7.0, 8.0), hasteReq(7.0, 8.0, 1.10), hasteReq(7.0, 8.0, 1.13)))\n",
    "print('R1.2: %.2f / %.2f / %.2f' % (hasteReq(7.0, 8.5), hasteReq(7.0, 8.5, 1.10), hasteReq(7.0, 8.5, 1.13)))\n",
    "print('R1.H: %.2f / %.2f / %.2f' % (hasteReq(6.0, 7.5), hasteReq(6.0, 7.5, 1.10), hasteReq(6.0, 7.5, 1.13)))\n",
    "print('R2.0: %.2f / %.2f / %.2f' % (hasteReq(7.0, 9.0), hasteReq(7.0, 9.0, 1.10), hasteReq(7.0, 9.0, 1.13)))\n",
    "print('R9.9: %.2f / %.2f / %.2f' % (hasteReq(1.0, 1.5), hasteReq(1.0, 1.5, 1.10), hasteReq(1.0, 1.5, 1.13)))"
   ]
  },
  {
   "cell_type": "code",
   "execution_count": 3,
   "metadata": {},
   "outputs": [
    {
     "name": "stdout",
     "output_type": "stream",
     "text": [
      "R1.0: 117.48 / -40.22 / -87.53\n",
      "R1.1: 230.45 / 72.75 / 25.44\n",
      "R1.2: 343.42 / 185.72 / 138.41\n",
      "R1.H: 400.84 / 243.14 / 195.83\n",
      "R2.0: 456.38 / 298.68 / 251.37\n"
     ]
    }
   ],
   "source": [
    "print('R1.0: %.2f / %.2f / %.2f' % (hasteReq(7.0 - 0.02, 7.5), hasteReq(7.0 - 0.02, 7.5, 1.10), hasteReq(7.0 - 0.02, 7.5, 1.13)))\n",
    "print('R1.1: %.2f / %.2f / %.2f' % (hasteReq(7.0 - 0.02, 8.0), hasteReq(7.0 - 0.02, 8.0, 1.10), hasteReq(7.0 - 0.02, 8.0, 1.13)))\n",
    "print('R1.2: %.2f / %.2f / %.2f' % (hasteReq(7.0 - 0.02, 8.5), hasteReq(7.0 - 0.02, 8.5, 1.10), hasteReq(7.0 - 0.02, 8.5, 1.13)))\n",
    "print('R1.H: %.2f / %.2f / %.2f' % (hasteReq(6.0 - 0.02, 7.5), hasteReq(6.0 - 0.02, 7.5, 1.10), hasteReq(6.0 - 0.02, 7.5, 1.13)))\n",
    "print('R2.0: %.2f / %.2f / %.2f' % (hasteReq(7.0 - 0.02, 9.0), hasteReq(7.0 - 0.02, 9.0, 1.10), hasteReq(7.0 - 0.02, 9.0, 1.13)))"
   ]
  },
  {
   "cell_type": "code",
   "execution_count": 4,
   "metadata": {},
   "outputs": [
    {
     "name": "stdout",
     "output_type": "stream",
     "text": [
      "R1.0: 124.80 / -32.90 / -80.21\n",
      "R1.1: 238.25 / 80.55 / 33.24\n",
      "R1.2: 351.71 / 194.01 / 146.70\n",
      "R1.H: 410.82 / 253.12 / 205.81\n",
      "R2.0: 465.16 / 307.46 / 260.15\n"
     ]
    }
   ],
   "source": [
    "print('R1.0: %.2f / %.2f / %.2f' % (hasteReq(7.0 - 0.05, 7.5), hasteReq(7.0 - 0.05, 7.5, 1.10), hasteReq(7.0 - 0.05, 7.5, 1.13)))\n",
    "print('R1.1: %.2f / %.2f / %.2f' % (hasteReq(7.0 - 0.05, 8.0), hasteReq(7.0 - 0.05, 8.0, 1.10), hasteReq(7.0 - 0.05, 8.0, 1.13)))\n",
    "print('R1.2: %.2f / %.2f / %.2f' % (hasteReq(7.0 - 0.05, 8.5), hasteReq(7.0 - 0.05, 8.5, 1.10), hasteReq(7.0 - 0.05, 8.5, 1.13)))\n",
    "print('R1.H: %.2f / %.2f / %.2f' % (hasteReq(6.0 - 0.05, 7.5), hasteReq(6.0 - 0.05, 7.5, 1.10), hasteReq(6.0 - 0.05, 7.5, 1.13)))\n",
    "print('R2.0: %.2f / %.2f / %.2f' % (hasteReq(7.0 - 0.05, 9.0), hasteReq(7.0 - 0.05, 9.0, 1.10), hasteReq(7.0 - 0.05, 9.0, 1.13)))"
   ]
  }
 ],
 "metadata": {
  "kernelspec": {
   "display_name": "Python 3 (ipykernel)",
   "language": "python",
   "name": "python3"
  },
  "language_info": {
   "codemirror_mode": {
    "name": "ipython",
    "version": 3
   },
   "file_extension": ".py",
   "mimetype": "text/x-python",
   "name": "python",
   "nbconvert_exporter": "python",
   "pygments_lexer": "ipython3",
   "version": "3.8.9"
  }
 },
 "nbformat": 4,
 "nbformat_minor": 4
}
