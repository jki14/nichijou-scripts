{
 "cells": [
  {
   "cell_type": "code",
   "execution_count": 1,
   "id": "c469f466",
   "metadata": {},
   "outputs": [],
   "source": [
    "def calc(strength, agility, ap, haste, crit, hit, expertise, penetration, hitcap = 141.93, expcap = 102.505):\n",
    "    weight = strength * 2.266 + agility * 3.0\n",
    "    weight += ap * 1.0 + haste * 1.1 + crit * 1.9\n",
    "    weight += min(hit, hitcap) * 2.9 + min(expertise, expcap) * 2.9\n",
    "    weight += penetration * 0.43\n",
    "    return weight"
   ]
  },
  {
   "cell_type": "code",
   "execution_count": 2,
   "id": "42701767",
   "metadata": {},
   "outputs": [],
   "source": [
    "def calc9(strength, agility, ap, haste, crit, hit, expertise, penetration):\n",
    "    return calc(strength, agility, ap, haste, crit, hit, expertise, penetration)\n",
    "\n",
    "def calc6(strength, agility, ap, haste, crit, hit, expertise, penetration):\n",
    "    return calc(strength, agility, ap, haste, crit, hit, expertise, penetration, 94.62)"
   ]
  },
  {
   "cell_type": "code",
   "execution_count": 3,
   "id": "b23ae012",
   "metadata": {},
   "outputs": [],
   "source": [
    "def solution(strength, agility, ap, haste, crit, hit, expertise, penetration):\n",
    "    return calc9(strength, agility, ap, haste, crit, hit, expertise, penetration), calc6(strength, agility, ap, haste, crit, hit, expertise, penetration)"
   ]
  },
  {
   "cell_type": "code",
   "execution_count": 4,
   "id": "f7c2bab7",
   "metadata": {},
   "outputs": [
    {
     "name": "stdout",
     "output_type": "stream",
     "text": [
      "(3002.464, 2879.562)\n",
      "(2999.952, 2877.05)\n",
      "(2981.249, 2844.05)\n",
      "(3007.6299999999997, 2881.828)\n",
      "(2998.868, 2875.966)\n"
     ]
    }
   ],
   "source": [
    "print(solution(254, 456, 540, 0, 64, 137, 0, 0)) # finger-1 no hit\n",
    "print(solution(222, 460, 540, 0, 64, 137, 20, 0)) # finger-1 expertise\n",
    "print(solution(222, 455, 580, 0, 64, 155, 0, 0)) # all hit\n",
    "print(solution(255, 454, 546, 0, 64, 138, 0, 0)) # back no hit\n",
    "print(solution(248, 460, 538, 0, 64, 137, 0, 0)) # neck no hit"
   ]
  },
  {
   "cell_type": "code",
   "execution_count": 5,
   "id": "6d3630b3",
   "metadata": {},
   "outputs": [
    {
     "name": "stdout",
     "output_type": "stream",
     "text": [
      "(2932.3579999999997, 2932.3579999999997)\n",
      "(2970.658, 2949.256)\n",
      "(2938.08, 2922.478)\n",
      "(2946.842, 2928.34)\n"
     ]
    }
   ],
   "source": [
    "print(solution(313, 461, 414, 0, 64, 85, 20, 0)) # no hit\n",
    "print(solution(313, 460, 464, 0, 64, 102, 0, 0)) # finger-2 hit\n",
    "print(solution(280, 462, 448, 0, 64, 100, 20, 0)) # back hit\n",
    "print(solution(287, 456, 456, 0, 64, 101, 20, 0)) # neck hit"
   ]
  },
  {
   "cell_type": "code",
   "execution_count": 6,
   "id": "624fe63c",
   "metadata": {},
   "outputs": [
    {
     "name": "stdout",
     "output_type": "stream",
     "text": [
      "1098.608\n",
      "1220.0720000000001\n"
     ]
    }
   ],
   "source": [
    "print(calc(38, 37, 829, 0, 0, 25, 0, 0)) # Terestian's Stranglestaff\n",
    "print(calc(42, 0 , 1010, 0, 33, 18, 0, 0)) # Merciless Gladiator's Maul"
   ]
  }
 ],
 "metadata": {
  "kernelspec": {
   "display_name": "Python 3",
   "language": "python",
   "name": "python3"
  },
  "language_info": {
   "codemirror_mode": {
    "name": "ipython",
    "version": 3
   },
   "file_extension": ".py",
   "mimetype": "text/x-python",
   "name": "python",
   "nbconvert_exporter": "python",
   "pygments_lexer": "ipython3",
   "version": "3.6.9"
  }
 },
 "nbformat": 4,
 "nbformat_minor": 5
}
