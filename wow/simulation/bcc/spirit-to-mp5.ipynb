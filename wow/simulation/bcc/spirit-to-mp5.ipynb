{
 "cells": [
  {
   "cell_type": "code",
   "execution_count": 1,
   "id": "0fa8ff49",
   "metadata": {},
   "outputs": [],
   "source": [
    "from math import ceil\n",
    "\n",
    "def basetick(intellect):\n",
    "    return ceil(5 * (0.001 + (intellect ** 0.5) * 10 * 0.009327) * 0.60)"
   ]
  },
  {
   "cell_type": "code",
   "execution_count": 2,
   "id": "0a8f286a",
   "metadata": {},
   "outputs": [],
   "source": [
    "def solution(time, intellect, innervate):\n",
    "    base = basetick(intellect) / 2.0\n",
    "    amount = base * time * 0.3\n",
    "    if innervate:\n",
    "        bursttime = time // 360 * 20 + min(time % 360, 20)\n",
    "        amount += base * bursttime * (4.0 - 0.3)\n",
    "    return amount / time"
   ]
  },
  {
   "cell_type": "code",
   "execution_count": 3,
   "id": "a0854048",
   "metadata": {},
   "outputs": [
    {
     "name": "stdout",
     "output_type": "stream",
     "text": [
      "innervate **off**, 500 intellect, 60 seconds fight, 10 spirit = 5.25 mp5\n",
      "innervate **off**, 500 intellect, 120 seconds fight, 10 spirit = 5.25 mp5\n",
      "innervate **off**, 500 intellect, 180 seconds fight, 10 spirit = 5.25 mp5\n",
      "innervate **off**, 500 intellect, 360 seconds fight, 10 spirit = 5.25 mp5\n",
      "innervate **off**, 500 intellect, 480 seconds fight, 10 spirit = 5.25 mp5\n",
      "innervate **on**, 500 intellect, 60 seconds fight, 10 spirit = 26.83 mp5\n",
      "innervate **on**, 500 intellect, 120 seconds fight, 10 spirit = 16.04 mp5\n",
      "innervate **on**, 500 intellect, 180 seconds fight, 10 spirit = 12.44 mp5\n",
      "innervate **on**, 500 intellect, 360 seconds fight, 10 spirit = 8.85 mp5\n",
      "innervate **on**, 500 intellect, 480 seconds fight, 10 spirit = 10.65 mp5\n"
     ]
    }
   ],
   "source": [
    "for innervate in [False, True]:\n",
    "    for intellect in [500]:\n",
    "        for time in [60, 120, 180, 360, 480]:\n",
    "            print('innervate **%s**, %d intellect, %d seconds fight, 10 spirit = %.2f mp5' % ('on' if innervate else 'off', \n",
    "                                                                                   intellect, \n",
    "                                                                                   time,\n",
    "                                                                                   solution(time, intellect, innervate) * 5))"
   ]
  }
 ],
 "metadata": {
  "kernelspec": {
   "display_name": "Python 3",
   "language": "python",
   "name": "python3"
  },
  "language_info": {
   "codemirror_mode": {
    "name": "ipython",
    "version": 3
   },
   "file_extension": ".py",
   "mimetype": "text/x-python",
   "name": "python",
   "nbconvert_exporter": "python",
   "pygments_lexer": "ipython3",
   "version": "3.6.9"
  }
 },
 "nbformat": 4,
 "nbformat_minor": 5
}
