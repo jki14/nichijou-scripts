{
 "cells": [
  {
   "cell_type": "code",
   "execution_count": 1,
   "id": "0fa8ff49",
   "metadata": {},
   "outputs": [],
   "source": [
    "from math import ceil\n",
    "\n",
    "def basetick(intellect, spirit):\n",
    "    return ceil(5 * (0.001 + (intellect ** 0.5) * spirit * 0.009327) * 0.60)"
   ]
  },
  {
   "cell_type": "code",
   "execution_count": 2,
   "id": "0a8f286a",
   "metadata": {},
   "outputs": [],
   "source": [
    "def solution(time, intellect, innervate):\n",
    "    base = basetick(intellect, 10) / 2.0\n",
    "    amount = base * time * 0.3\n",
    "    if innervate:\n",
    "        bursttime = time // 360 * 20 + min(time % 360, 20)\n",
    "        amount += base * bursttime * (4.0 - 0.3)\n",
    "    return amount / time"
   ]
  },
  {
   "cell_type": "code",
   "execution_count": 3,
   "id": "a0854048",
   "metadata": {},
   "outputs": [
    {
     "name": "stdout",
     "output_type": "stream",
     "text": [
      "innervate **on**, 400 intellect, 300 seconds fight, 10 spirit = 8.20 mp5\n",
      "innervate **on**, 500 intellect, 300 seconds fight, 10 spirit = 9.57 mp5\n",
      "innervate **on**, 600 intellect, 300 seconds fight, 10 spirit = 9.57 mp5\n"
     ]
    }
   ],
   "source": [
    "# for innervate in [False, True]:\n",
    "for innervate in [True]:\n",
    "    # for intellect in [500]:\n",
    "    for intellect in [400, 500, 600]:\n",
    "        # for time in [60, 120, 180, 360, 480]:\n",
    "        for time in [300]:\n",
    "            print('innervate **%s**, %d intellect, %d seconds fight, 10 spirit = %.2f mp5' % ('on' if innervate else 'off', \n",
    "                                                                                   intellect, \n",
    "                                                                                   time,\n",
    "                                                                                   solution(time, intellect, innervate) * 5))"
   ]
  },
  {
   "cell_type": "code",
   "execution_count": 4,
   "id": "f65bdaf8",
   "metadata": {},
   "outputs": [],
   "source": [
    "def solution2(time, intellect, spirit, innervate):\n",
    "    base = (basetick(intellect + 10, spirit) - basetick(intellect, spirit)) / 2.0\n",
    "    amount = 150 + base * time * 0.3\n",
    "    if innervate:\n",
    "        bursttime = time // 360 * 20 + min(time % 360, 20)\n",
    "        amount += base * bursttime * (4.0 - 0.3)\n",
    "    return amount / time"
   ]
  },
  {
   "cell_type": "code",
   "execution_count": 5,
   "id": "b6a5a3db",
   "metadata": {},
   "outputs": [
    {
     "name": "stdout",
     "output_type": "stream",
     "text": [
      "innervate **on**, 400 intellect, 300 spirit, 300 seconds fight, 10 intellect = 5.23 mp5\n",
      "innervate **on**, 400 intellect, 400 spirit, 300 seconds fight, 10 intellect = 6.60 mp5\n",
      "innervate **on**, 400 intellect, 500 spirit, 300 seconds fight, 10 intellect = 7.97 mp5\n",
      "innervate **on**, 500 intellect, 300 spirit, 300 seconds fight, 10 intellect = 5.23 mp5\n",
      "innervate **on**, 500 intellect, 400 spirit, 300 seconds fight, 10 intellect = 5.23 mp5\n",
      "innervate **on**, 500 intellect, 500 spirit, 300 seconds fight, 10 intellect = 6.60 mp5\n",
      "innervate **on**, 600 intellect, 300 spirit, 300 seconds fight, 10 intellect = 5.23 mp5\n",
      "innervate **on**, 600 intellect, 400 spirit, 300 seconds fight, 10 intellect = 5.23 mp5\n",
      "innervate **on**, 600 intellect, 500 spirit, 300 seconds fight, 10 intellect = 6.60 mp5\n"
     ]
    }
   ],
   "source": [
    "# for innervate in [False, True]:\n",
    "for innervate in [True]:\n",
    "    # for intellect in [500]:\n",
    "    for intellect in [400, 500, 600]:\n",
    "        # for spirit in [500]:\n",
    "        for spirit in [300, 400, 500]:\n",
    "            # for time in [60, 120, 180, 360, 480]:\n",
    "            for time in [300]:\n",
    "                print('innervate **%s**, %d intellect, %d spirit, %d seconds fight, 10 intellect = %.2f mp5' % (\n",
    "                      'on' if innervate else 'off',\n",
    "                      intellect, \n",
    "                      spirit,\n",
    "                      time,\n",
    "                      solution2(time, intellect, spirit, innervate) * 5))"
   ]
  }
 ],
 "metadata": {
  "kernelspec": {
   "display_name": "Python 3",
   "language": "python",
   "name": "python3"
  },
  "language_info": {
   "codemirror_mode": {
    "name": "ipython",
    "version": 3
   },
   "file_extension": ".py",
   "mimetype": "text/x-python",
   "name": "python",
   "nbconvert_exporter": "python",
   "pygments_lexer": "ipython3",
   "version": "3.6.9"
  }
 },
 "nbformat": 4,
 "nbformat_minor": 5
}
