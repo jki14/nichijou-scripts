{
 "cells": [
  {
   "cell_type": "code",
   "execution_count": 1,
   "metadata": {},
   "outputs": [],
   "source": [
    "def hasteReq(target, base):\n",
    "    return (base / target - 1.0) * 1577"
   ]
  },
  {
   "cell_type": "code",
   "execution_count": 2,
   "metadata": {},
   "outputs": [
    {
     "name": "stdout",
     "output_type": "stream",
     "text": [
      "R1.0: 112.64\n",
      "R1.1: 225.29\n",
      "R1.2: 337.93\n",
      "R1.H: 394.25\n",
      "R2.0: 450.57\n"
     ]
    }
   ],
   "source": [
    "print('R1.0: %.2f' % hasteReq(7.0, 7.5))\n",
    "print('R1.1: %.2f' % hasteReq(7.0, 8.0))\n",
    "print('R1.2: %.2f' % hasteReq(7.0, 8.5))\n",
    "print('R1.H: %.2f' % hasteReq(6.0, 7.5))\n",
    "print('R2.0: %.2f' % hasteReq(7.0, 9.0))"
   ]
  }
 ],
 "metadata": {
  "kernelspec": {
   "display_name": "Python 3 (ipykernel)",
   "language": "python",
   "name": "python3"
  },
  "language_info": {
   "codemirror_mode": {
    "name": "ipython",
    "version": 3
   },
   "file_extension": ".py",
   "mimetype": "text/x-python",
   "name": "python",
   "nbconvert_exporter": "python",
   "pygments_lexer": "ipython3",
   "version": "3.8.10"
  }
 },
 "nbformat": 4,
 "nbformat_minor": 4
}
