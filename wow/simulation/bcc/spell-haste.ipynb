{
 "cells": [
  {
   "cell_type": "code",
   "execution_count": 1,
   "metadata": {},
   "outputs": [],
   "source": [
    "def hasteReq(target, base):\n",
    "    return (base / target - 1.0) * 1577"
   ]
  },
  {
   "cell_type": "code",
   "execution_count": 2,
   "metadata": {},
   "outputs": [
    {
     "name": "stdout",
     "output_type": "stream",
     "text": [
      "R1.0: 112.64\n",
      "R1.1: 225.29\n",
      "R1.2: 337.93\n",
      "R1.H: 394.25\n",
      "R2.0: 450.57\n"
     ]
    }
   ],
   "source": [
    "print('R1.0: %.2f' % hasteReq(7.0, 7.5))\n",
    "print('R1.1: %.2f' % hasteReq(7.0, 8.0))\n",
    "print('R1.2: %.2f' % hasteReq(7.0, 8.5))\n",
    "print('R1.H: %.2f' % hasteReq(6.0, 7.5))\n",
    "print('R2.0: %.2f' % hasteReq(7.0, 9.0))"
   ]
  },
  {
   "cell_type": "code",
   "execution_count": 3,
   "metadata": {},
   "outputs": [
    {
     "name": "stdout",
     "output_type": "stream",
     "text": [
      "R1.0: 124.80\n",
      "R1.1: 238.25\n",
      "R1.2: 351.71\n",
      "R1.H: 410.82\n",
      "R2.0: 465.16\n"
     ]
    }
   ],
   "source": [
    "print('R1.0: %.2f' % hasteReq(7.0 - 0.05, 7.5))\n",
    "print('R1.1: %.2f' % hasteReq(7.0 - 0.05, 8.0))\n",
    "print('R1.2: %.2f' % hasteReq(7.0 - 0.05, 8.5))\n",
    "print('R1.H: %.2f' % hasteReq(6.0 - 0.05, 7.5))\n",
    "print('R2.0: %.2f' % hasteReq(7.0 - 0.05, 9.0))"
   ]
  }
 ],
 "metadata": {
  "kernelspec": {
   "display_name": "Python 3 (ipykernel)",
   "language": "python",
   "name": "python3"
  },
  "language_info": {
   "codemirror_mode": {
    "name": "ipython",
    "version": 3
   },
   "file_extension": ".py",
   "mimetype": "text/x-python",
   "name": "python",
   "nbconvert_exporter": "python",
   "pygments_lexer": "ipython3",
   "version": "3.9.12"
  }
 },
 "nbformat": 4,
 "nbformat_minor": 4
}
