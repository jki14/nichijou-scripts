{
 "cells": [
  {
   "cell_type": "code",
   "execution_count": 1,
   "id": "de322d4b",
   "metadata": {},
   "outputs": [],
   "source": [
    "def armor_dr(amount, agility):\n",
    "    # Armor / (Armor + 400 + 85 * (AttackerLevel + 4.5 * (AttackerLevel - 59)))\n",
    "    # Hard Cap: 35880 \n",
    "    amount += 18 * 2        # Improved Mark of the Wild - Agility\n",
    "    amount += 35 * 2        # Elixir of Major Agility - Agility\n",
    "    amount += agility * 0.2 # Blessing of Kings - Agility\n",
    "    amount *= 1.25          # Inspiration\n",
    "    amount += 459           # Improved Mark of the Wild - Armor\n",
    "    return min(amount / (amount + 11960), 0.75), amount"
   ]
  },
  {
   "cell_type": "code",
   "execution_count": 2,
   "id": "0adecea5",
   "metadata": {},
   "outputs": [
    {
     "data": {
      "text/plain": [
       "(0.7459184432193577, 35111.5)"
      ]
     },
     "execution_count": 2,
     "metadata": {},
     "output_type": "execute_result"
    }
   ],
   "source": [
    "armor_dr(27507, 545)"
   ]
  },
  {
   "cell_type": "code",
   "execution_count": 3,
   "id": "8d7ea295",
   "metadata": {},
   "outputs": [],
   "source": [
    "def crit_reduction(defense, resilience):\n",
    "    return defense / 59.135 + (resilience + 30) / 39.4, defense / 59.135 + resilience / 39.4"
   ]
  },
  {
   "cell_type": "code",
   "execution_count": 4,
   "id": "577c5593",
   "metadata": {},
   "outputs": [
    {
     "data": {
      "text/plain": [
       "(3.1634876577254403, 2.4020663379284857)"
      ]
     },
     "execution_count": 4,
     "metadata": {},
     "output_type": "execute_result"
    }
   ],
   "source": [
    "crit_reduction(64, 52)"
   ]
  },
  {
   "cell_type": "code",
   "execution_count": 5,
   "id": "1ca28976",
   "metadata": {},
   "outputs": [
    {
     "data": {
      "text/plain": [
       "(0.7495340411719126, 35791.0)"
      ]
     },
     "execution_count": 5,
     "metadata": {},
     "output_type": "execute_result"
    }
   ],
   "source": [
    "armor_dr(28052, 538)"
   ]
  },
  {
   "cell_type": "code",
   "execution_count": 6,
   "id": "b01a165a",
   "metadata": {},
   "outputs": [
    {
     "data": {
      "text/plain": [
       "(3.09584582124958, 2.3344245014526255)"
      ]
     },
     "execution_count": 6,
     "metadata": {},
     "output_type": "execute_result"
    }
   ],
   "source": [
    "crit_reduction(60, 52)"
   ]
  }
 ],
 "metadata": {
  "kernelspec": {
   "display_name": "Python 3",
   "language": "python",
   "name": "python3"
  },
  "language_info": {
   "codemirror_mode": {
    "name": "ipython",
    "version": 3
   },
   "file_extension": ".py",
   "mimetype": "text/x-python",
   "name": "python",
   "nbconvert_exporter": "python",
   "pygments_lexer": "ipython3",
   "version": "3.6.9"
  }
 },
 "nbformat": 4,
 "nbformat_minor": 5
}
